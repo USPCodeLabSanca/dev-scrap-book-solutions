{
  "cells": [
    {
      "cell_type": "markdown",
      "metadata": {
        "id": "HqO7KcFIowM6"
      },
      "source": [
        "# Dev.scrap - Revisão\n",
        "\n",
        "---\n",
        "\n",
        "Este notebook visa fazer uma revisão dos conteúdos dos Capítulos 1 até 4 do livro \"Web Scraping com Python\" da Ryan Mitchell.\n",
        "\n",
        "*Observação*: É uma boa atualizar esse notebook para cada começo de ano para continuar a frente sem ter que voltar do zero."
      ]
    },
    {
      "cell_type": "code",
      "execution_count": 7,
      "metadata": {},
      "outputs": [],
      "source": [
        "x = 2"
      ]
    },
    {
      "cell_type": "code",
      "execution_count": 8,
      "metadata": {
        "id": "eZshqnkMty-5"
      },
      "outputs": [],
      "source": [
        "from urllib.request import urlopen\n",
        "from urllib.error import HTTPError, URLError\n",
        "from urllib.parse import urlparse\n",
        "from bs4 import BeautifulSoup\n",
        "import re\n",
        "import random"
      ]
    },
    {
      "cell_type": "markdown",
      "metadata": {
        "id": "sFmF_aA2qK1N"
      },
      "source": [
        "## Capítulo 1 e 2"
      ]
    },
    {
      "cell_type": "markdown",
      "metadata": {
        "id": "fw6tozy1rSb8"
      },
      "source": [
        "No capítulo 1, aprendemos o básico sobre como obter uma página web a partir de um código Python e transformá-lo em um objeto BeautifulSoup para podermos navegar facilmente pelas tags, classes e tudo o que compõe o HTML.\n",
        "\n",
        "Já no capítulo 2, aprendemos a usar o Beautiful Soup e todas as ferramentas que ele nos tem a oferecer, além disso, aprendemos um pouco sobre expressões regulares.\n",
        "\n",
        "Caso queira treinar os conhecimentos deste capítulo, utilize este [notebook](https://github.com/USPCodeLabSanca/dev-scrap-book-solutions/blob/main/caps%201-2/chapter1-2.ipynb)."
      ]
    },
    {
      "cell_type": "markdown",
      "metadata": {
        "id": "pIdeLWk5tX5x"
      },
      "source": [
        "Para obter uma página web e transformá-la em um objeto BeautifulSoup, faça o seguinte:"
      ]
    },
    {
      "cell_type": "code",
      "execution_count": 9,
      "metadata": {
        "id": "XyYTD_qxod3u"
      },
      "outputs": [],
      "source": [
        "def getPage(url):\n",
        "  try:\n",
        "    html = urlopen(url)\n",
        "  except HTTPError:\n",
        "    return None\n",
        "  except URLError:\n",
        "    return None\n",
        "  return html\n",
        "\n",
        "def getBS(url):\n",
        "  page = getPage(url)\n",
        "  if page:\n",
        "    return BeautifulSoup(getPage(url).read(), 'html.parser')\n",
        "  return None"
      ]
    },
    {
      "cell_type": "code",
      "execution_count": 10,
      "metadata": {
        "colab": {
          "base_uri": "https://localhost:8080/"
        },
        "id": "2lJybCf4unWM",
        "outputId": "37417e74-d10f-4fe3-8e12-a625648c3875"
      },
      "outputs": [
        {
          "data": {
            "text/plain": [
              "<!DOCTYPE html>\n",
              "\n",
              "<html lang=\"en\">\n",
              "<head>\n",
              "<meta charset=\"utf-8\"/>\n",
              "<meta content=\"IE=edge\" http-equiv=\"X-UA-Compatible\"/>\n",
              "<meta content=\"width=device-width, initial-scale=1.0\" name=\"viewport\"/>\n",
              "<title>Caps 1-2</title>\n",
              "</head>\n",
              "<style>\n",
              "\n",
              "    body {\n",
              "        margin: 0;\n",
              "        padding: 1em 1em 2em 1em;\n",
              "    }\n",
              "    table {\n",
              "        margin: 1em 0em;\n",
              "        font-family: arial, sans-serif;\n",
              "        border-collapse: collapse;\n",
              "        width: 100%;\n",
              "    }\n",
              "    \n",
              "    td, th {\n",
              "        border: 1px solid #dddddd;\n",
              "        text-align: left;\n",
              "        padding: 8px;\n",
              "    }\n",
              "    \n",
              "    .oscar {\n",
              "        background-color: gold !important; \n",
              "    }\n",
              "    \n",
              "    tr:nth-child(even) {\n",
              "      background-color: #dddddd;\n",
              "    }\n",
              "\n",
              "    img {\n",
              "        width: 15%;\n",
              "        max-height: 5%;\n",
              "    }\n",
              "\n",
              "</style>\n",
              "<body>\n",
              "<h1>Movie List by Production Companies</h1>\n",
              "<div id=\"warner\">\n",
              "<h2>Warner Bros. Pictures</h2>\n",
              "<img alt=\"warner\" src=\"https://upload.wikimedia.org/wikipedia/commons/thumb/d/d2/Warner_Bros._%282019%29_logo.svg/1200px-Warner_Bros._%282019%29_logo.svg.png\"/>\n",
              "<table>\n",
              "<tr>\n",
              "<th>Movie</th>\n",
              "<th>Actors</th>\n",
              "<th>Year</th>\n",
              "<th>Director</th>\n",
              "</tr>\n",
              "<tr>\n",
              "<td>Harry Potter and the Philosopher's Stone</td>\n",
              "<td>Daniel Radcliffe, Emma Watson, Rupert Grint, Alan Rickman, Richard Harris</td>\n",
              "<td>2001</td>\n",
              "<td>Chris Columbus</td>\n",
              "</tr>\n",
              "<tr>\n",
              "<td>Harry Potter and the Chamber of Secrets</td>\n",
              "<td>Daniel Radcliffe, Emma Watson, Rupert Grint, Alan Rickman, Richard Harris</td>\n",
              "<td>2002</td>\n",
              "<td>Chris Columbus</td>\n",
              "</tr>\n",
              "<tr>\n",
              "<td>Harry Potter and the Prisoner of Askaban</td>\n",
              "<td>Daniel Radcliffe, Emma Watson, Rupert Grint, Alan Rickman, Michael Gambon</td>\n",
              "<td>2004</td>\n",
              "<td>Alfonso Cuarón</td>\n",
              "</tr>\n",
              "<tr>\n",
              "<td>Harry Potter and the Goblet of Fire</td>\n",
              "<td>Daniel Radcliffe, Emma Watson, Rupert Grint, Alan Rickman, Michael Gambon</td>\n",
              "<td>2005</td>\n",
              "<td>Mike Newell</td>\n",
              "</tr>\n",
              "<tr>\n",
              "<td>Harry Potter and the Order of the Phoenix</td>\n",
              "<td>Daniel Radcliffe, Emma Watson, Rupert Grint, Alan Rickman, Michael Gambon</td>\n",
              "<td>2007</td>\n",
              "<td>David Yates</td>\n",
              "</tr>\n",
              "<tr>\n",
              "<td>Harry Potter and the Half-Blood Prince</td>\n",
              "<td>Daniel Radcliffe, Emma Watson, Rupert Grint, Alan Rickman, Michael Gambon</td>\n",
              "<td>2009</td>\n",
              "<td>David Yates</td>\n",
              "</tr>\n",
              "<tr>\n",
              "<td>Harry Potter and the Deathly Hallows: Part 1</td>\n",
              "<td>Daniel Radcliffe, Emma Watson, Rupert Grint, Alan Rickman, Michael Gambon</td>\n",
              "<td>2010</td>\n",
              "<td>David Yates</td>\n",
              "</tr>\n",
              "<tr>\n",
              "<td>Harry Potter and the Deathly Hallows: Part 2</td>\n",
              "<td>Daniel Radcliffe, Emma Watson, Rupert Grint, Alan Rickman, Michael Gambon</td>\n",
              "<td>2011</td>\n",
              "<td>David Yates</td>\n",
              "</tr>\n",
              "<tr>\n",
              "<td>Dune</td>\n",
              "<td>Timothée Chalamet, Rebecca Ferguson, Oscar Isaac</td>\n",
              "<td>2021</td>\n",
              "<td>Denis Villeneuve</td>\n",
              "</tr>\n",
              "</table>\n",
              "</div>\n",
              "<br/>\n",
              "<hr/>\n",
              "<br/>\n",
              "<div id=\"participant\">\n",
              "<h2>Participant Films</h2>\n",
              "<img alt=\"participant\" src=\"https://upload.wikimedia.org/wikipedia/commons/0/07/Participant_%282019%29.svg\"/>\n",
              "<table>\n",
              "<tr>\n",
              "<th>Movie</th>\n",
              "<th>Actors</th>\n",
              "<th>Director</th>\n",
              "<th>Year</th>\n",
              "</tr>\n",
              "<tr class=\"oscar\">\n",
              "<td>Green Book</td>\n",
              "<td>Viggo Mortensen, Mahershala Ali, Linda Cardellini</td>\n",
              "<td>Peter Farrelly</td>\n",
              "<td>2018</td>\n",
              "</tr>\n",
              "<tr class=\"oscar\">\n",
              "<td>The Post</td>\n",
              "<td>Meryl Streep, Tom Hanks, Sarah Paulson</td>\n",
              "<td>Steven Spielberg</td>\n",
              "<td>2017</td>\n",
              "</tr>\n",
              "<tr class=\"oscar\">\n",
              "<td>Roma</td>\n",
              "<td>Yalitza Aparicio, Marina de Tavira</td>\n",
              "<td>Alfonso Cuarón</td>\n",
              "<td>2018</td>\n",
              "</tr>\n",
              "<tr class=\"oscar\">\n",
              "<td>Spotlight</td>\n",
              "<td>Mark Rufallo, Michael Keaton, Rachel McAdams</td>\n",
              "<td>Tom McCarthy</td>\n",
              "<td>2015</td>\n",
              "</tr>\n",
              "</table>\n",
              "</div>\n",
              "</body>\n",
              "</html>"
            ]
          },
          "execution_count": 10,
          "metadata": {},
          "output_type": "execute_result"
        }
      ],
      "source": [
        "site = getBS(\"https://scraping-cap1-2.netlify.app/\")\n",
        "site"
      ]
    },
    {
      "cell_type": "markdown",
      "metadata": {
        "id": "liVQhHy2v5Ux"
      },
      "source": [
        "Para acessar o primeiro de um tipo de tag no escopo em que está, podemos fazer de duas maneiras:"
      ]
    },
    {
      "cell_type": "code",
      "execution_count": 11,
      "metadata": {
        "colab": {
          "base_uri": "https://localhost:8080/"
        },
        "id": "3mwNtAN0wDyg",
        "outputId": "b550e4f4-f136-4ae9-a181-9e729c34a85b"
      },
      "outputs": [
        {
          "name": "stdout",
          "output_type": "stream",
          "text": [
            "<h2>Warner Bros. Pictures</h2>\n",
            "<h2>Warner Bros. Pictures</h2>\n"
          ]
        }
      ],
      "source": [
        "print(site.h2)\n",
        "print(site.find('h2'))"
      ]
    },
    {
      "cell_type": "markdown",
      "metadata": {
        "id": "3jV5r3h9xCmB"
      },
      "source": [
        "Se quiser acessar o valor textual da tag, use `.get_text()`"
      ]
    },
    {
      "cell_type": "code",
      "execution_count": 12,
      "metadata": {
        "colab": {
          "base_uri": "https://localhost:8080/"
        },
        "id": "YIFPVeI7w7Ox",
        "outputId": "48a2ada5-b889-417c-a1d5-a7fb7ab7b8f5"
      },
      "outputs": [
        {
          "name": "stdout",
          "output_type": "stream",
          "text": [
            "Warner Bros. Pictures\n"
          ]
        }
      ],
      "source": [
        "print(site.h2.get_text())"
      ]
    },
    {
      "cell_type": "markdown",
      "metadata": {
        "id": "nxt3hvQIxJIY"
      },
      "source": [
        "Para encontrar determinadas tags a partir de uma pesquisa, utilizaremos principalmente dois métodos com definições parecidas:\n",
        "* `find_all(tag, attributes, recursive, text, limit, keywords)`\n",
        "* `find(tag, attributres, recursive, text, keywords)`"
      ]
    },
    {
      "cell_type": "markdown",
      "metadata": {
        "id": "TG_0Jl4mx3qj"
      },
      "source": [
        "Com o parâmetro `tag`, podemos passar uma tag ou uma lista de tags:"
      ]
    },
    {
      "cell_type": "code",
      "execution_count": 13,
      "metadata": {
        "colab": {
          "base_uri": "https://localhost:8080/"
        },
        "id": "kj5tA_eexqai",
        "outputId": "29c65fdd-b50b-45b8-f8e6-ec9acc917b4e"
      },
      "outputs": [
        {
          "name": "stdout",
          "output_type": "stream",
          "text": [
            "<h2>Warner Bros. Pictures</h2>\n",
            "[<h2>Warner Bros. Pictures</h2>, <h2>Participant Films</h2>]\n",
            "<h1>Movie List by Production Companies</h1>\n",
            "[<h1>Movie List by Production Companies</h1>, <h2>Warner Bros. Pictures</h2>, <h2>Participant Films</h2>]\n"
          ]
        }
      ],
      "source": [
        "print(site.find('h2'))\n",
        "print(site.find_all('h2'))\n",
        "\n",
        "print(site.find(['h1', 'h2'])) # Retorna a primeira tag encontrada dentre as passadas na lista\n",
        "print(site.find_all(['h1', 'h2']))"
      ]
    },
    {
      "cell_type": "markdown",
      "metadata": {
        "id": "nZQvPpTRyoab"
      },
      "source": [
        "Com o parâmetro `attributes`, é passado um dicionário que faz a correspondência com tags que contenham qualquer um desses atributos."
      ]
    },
    {
      "cell_type": "code",
      "execution_count": 14,
      "metadata": {
        "colab": {
          "base_uri": "https://localhost:8080/"
        },
        "id": "Gq2b20VUxaQk",
        "outputId": "32bc725a-4cf9-4d20-ff19-f3bcef578602"
      },
      "outputs": [
        {
          "name": "stdout",
          "output_type": "stream",
          "text": [
            "[<tr class=\"oscar\">\n",
            "<td>Green Book</td>\n",
            "<td>Viggo Mortensen, Mahershala Ali, Linda Cardellini</td>\n",
            "<td>Peter Farrelly</td>\n",
            "<td>2018</td>\n",
            "</tr>, <tr class=\"oscar\">\n",
            "<td>The Post</td>\n",
            "<td>Meryl Streep, Tom Hanks, Sarah Paulson</td>\n",
            "<td>Steven Spielberg</td>\n",
            "<td>2017</td>\n",
            "</tr>, <tr class=\"oscar\">\n",
            "<td>Roma</td>\n",
            "<td>Yalitza Aparicio, Marina de Tavira</td>\n",
            "<td>Alfonso Cuarón</td>\n",
            "<td>2018</td>\n",
            "</tr>, <tr class=\"oscar\">\n",
            "<td>Spotlight</td>\n",
            "<td>Mark Rufallo, Michael Keaton, Rachel McAdams</td>\n",
            "<td>Tom McCarthy</td>\n",
            "<td>2015</td>\n",
            "</tr>]\n"
          ]
        }
      ],
      "source": [
        "print(site.find_all('tr', {'class': {'oscar', 'cannes'}})) # Retornam todas as tags tr que tenham classe 'oscar' OU 'cannes' "
      ]
    },
    {
      "cell_type": "markdown",
      "metadata": {
        "id": "AaS780_Sz4j6"
      },
      "source": [
        "O parâmetro `recursive` (`True` por default) detalha o nível de aprofundamento que o `find` ou `find_all` pode ter. Caso esteja setado para `True`, pode vasculhar toda a árvore do DOM para baixo. Caso contrário, analisa apenas o nível mais superficial."
      ]
    },
    {
      "cell_type": "code",
      "execution_count": 15,
      "metadata": {
        "colab": {
          "base_uri": "https://localhost:8080/"
        },
        "id": "NpVcmbPTz0Be",
        "outputId": "be4d0ab5-f5df-4da5-dd6b-d1725cf1c843"
      },
      "outputs": [
        {
          "name": "stdout",
          "output_type": "stream",
          "text": [
            "None\n",
            "<td>Harry Potter and the Philosopher's Stone</td>\n",
            "<td>Harry Potter and the Philosopher's Stone</td>\n"
          ]
        }
      ],
      "source": [
        "print(site.find('td', recursive=False))\n",
        "print(site.find('td', recursive=True))\n",
        "print(site.find('td'))"
      ]
    },
    {
      "cell_type": "markdown",
      "metadata": {
        "id": "t21FrT5E0z2A"
      },
      "source": [
        "O parâmetro `string` (`text` está depreciado) faz uma busca no conteúdo textual das tags."
      ]
    },
    {
      "cell_type": "code",
      "execution_count": 16,
      "metadata": {
        "colab": {
          "base_uri": "https://localhost:8080/"
        },
        "id": "-YN5mogv0wdY",
        "outputId": "94be1c8f-c4a5-4840-b878-eb6ac1fc3da2"
      },
      "outputs": [
        {
          "name": "stdout",
          "output_type": "stream",
          "text": [
            "Green Book\n"
          ]
        }
      ],
      "source": [
        "print(site.find(string=\"Green Book\"))"
      ]
    },
    {
      "cell_type": "markdown",
      "metadata": {
        "id": "y1XTf6zN1qGA"
      },
      "source": [
        "O parâmetro `limit` é usado somente no `find_all` e retorna os $n$ primeiros resultados especificados pela pesquisa."
      ]
    },
    {
      "cell_type": "code",
      "execution_count": 17,
      "metadata": {
        "colab": {
          "base_uri": "https://localhost:8080/"
        },
        "id": "0rRWOGK32GwK",
        "outputId": "39183926-8c17-4a64-9514-172b1fc232d0"
      },
      "outputs": [
        {
          "name": "stdout",
          "output_type": "stream",
          "text": [
            "[<td>Harry Potter and the Philosopher's Stone</td>, <td>Daniel Radcliffe, Emma Watson, Rupert Grint, Alan Rickman, Richard Harris</td>]\n",
            "52\n"
          ]
        }
      ],
      "source": [
        "print(site.find_all('td', limit=2))\n",
        "print(len(site.find_all('td')))"
      ]
    },
    {
      "cell_type": "markdown",
      "metadata": {
        "id": "AtBtyOKU3QV7"
      },
      "source": [
        "O parâmetro `keyword` permite definir que os resultados deverão ter atributos com os seguintes valores.\n",
        "\n",
        "Diferentemente do `attributes` que funciona com um OR, o keyword funciona com um AND."
      ]
    },
    {
      "cell_type": "code",
      "execution_count": 18,
      "metadata": {
        "colab": {
          "base_uri": "https://localhost:8080/"
        },
        "id": "3Hdo908p25PA",
        "outputId": "90982f05-0862-42ff-e559-105bec8aed63"
      },
      "outputs": [
        {
          "name": "stdout",
          "output_type": "stream",
          "text": [
            "<div id=\"warner\">\n",
            "<h2>Warner Bros. Pictures</h2>\n",
            "<img alt=\"warner\" src=\"https://upload.wikimedia.org/wikipedia/commons/thumb/d/d2/Warner_Bros._%282019%29_logo.svg/1200px-Warner_Bros._%282019%29_logo.svg.png\"/>\n",
            "<table>\n",
            "<tr>\n",
            "<th>Movie</th>\n",
            "<th>Actors</th>\n",
            "<th>Year</th>\n",
            "<th>Director</th>\n",
            "</tr>\n",
            "<tr>\n",
            "<td>Harry Potter and the Philosopher's Stone</td>\n",
            "<td>Daniel Radcliffe, Emma Watson, Rupert Grint, Alan Rickman, Richard Harris</td>\n",
            "<td>2001</td>\n",
            "<td>Chris Columbus</td>\n",
            "</tr>\n",
            "<tr>\n",
            "<td>Harry Potter and the Chamber of Secrets</td>\n",
            "<td>Daniel Radcliffe, Emma Watson, Rupert Grint, Alan Rickman, Richard Harris</td>\n",
            "<td>2002</td>\n",
            "<td>Chris Columbus</td>\n",
            "</tr>\n",
            "<tr>\n",
            "<td>Harry Potter and the Prisoner of Askaban</td>\n",
            "<td>Daniel Radcliffe, Emma Watson, Rupert Grint, Alan Rickman, Michael Gambon</td>\n",
            "<td>2004</td>\n",
            "<td>Alfonso Cuarón</td>\n",
            "</tr>\n",
            "<tr>\n",
            "<td>Harry Potter and the Goblet of Fire</td>\n",
            "<td>Daniel Radcliffe, Emma Watson, Rupert Grint, Alan Rickman, Michael Gambon</td>\n",
            "<td>2005</td>\n",
            "<td>Mike Newell</td>\n",
            "</tr>\n",
            "<tr>\n",
            "<td>Harry Potter and the Order of the Phoenix</td>\n",
            "<td>Daniel Radcliffe, Emma Watson, Rupert Grint, Alan Rickman, Michael Gambon</td>\n",
            "<td>2007</td>\n",
            "<td>David Yates</td>\n",
            "</tr>\n",
            "<tr>\n",
            "<td>Harry Potter and the Half-Blood Prince</td>\n",
            "<td>Daniel Radcliffe, Emma Watson, Rupert Grint, Alan Rickman, Michael Gambon</td>\n",
            "<td>2009</td>\n",
            "<td>David Yates</td>\n",
            "</tr>\n",
            "<tr>\n",
            "<td>Harry Potter and the Deathly Hallows: Part 1</td>\n",
            "<td>Daniel Radcliffe, Emma Watson, Rupert Grint, Alan Rickman, Michael Gambon</td>\n",
            "<td>2010</td>\n",
            "<td>David Yates</td>\n",
            "</tr>\n",
            "<tr>\n",
            "<td>Harry Potter and the Deathly Hallows: Part 2</td>\n",
            "<td>Daniel Radcliffe, Emma Watson, Rupert Grint, Alan Rickman, Michael Gambon</td>\n",
            "<td>2011</td>\n",
            "<td>David Yates</td>\n",
            "</tr>\n",
            "<tr>\n",
            "<td>Dune</td>\n",
            "<td>Timothée Chalamet, Rebecca Ferguson, Oscar Isaac</td>\n",
            "<td>2021</td>\n",
            "<td>Denis Villeneuve</td>\n",
            "</tr>\n",
            "</table>\n",
            "</div>\n",
            "<tr class=\"oscar\">\n",
            "<td>Green Book</td>\n",
            "<td>Viggo Mortensen, Mahershala Ali, Linda Cardellini</td>\n",
            "<td>Peter Farrelly</td>\n",
            "<td>2018</td>\n",
            "</tr>\n"
          ]
        }
      ],
      "source": [
        "print(site.find(id=\"warner\"))\n",
        "print(site.find(class_=\"oscar\"))"
      ]
    },
    {
      "cell_type": "markdown",
      "metadata": {
        "id": "SSxfW9w86Cxp"
      },
      "source": [
        "Para conseguir todas as tags filhas de uma tag, você pode usar o `.children`. \n",
        "\n",
        "Ele gera um iterador, caso você queria uma lista, pode usar o `.find_all(recursive=False)`.\n",
        "\n",
        "*Observação*: note que o `child` no código abaixo retorna umas linhas vazias, então fique atento a isso ao usar o `.children`"
      ]
    },
    {
      "cell_type": "code",
      "execution_count": 19,
      "metadata": {
        "colab": {
          "base_uri": "https://localhost:8080/"
        },
        "id": "tOS3re1z4aV2",
        "outputId": "4122cc33-284f-4105-b84d-282b82c600c5"
      },
      "outputs": [
        {
          "name": "stdout",
          "output_type": "stream",
          "text": [
            "0 \n",
            "\n",
            "1 <h2>Participant Films</h2>\n",
            "2 \n",
            "\n",
            "3 <img alt=\"participant\" src=\"https://upload.wikimedia.org/wikipedia/commons/0/07/Participant_%282019%29.svg\"/>\n",
            "4 \n",
            "\n",
            "5 <table>\n",
            "<tr>\n",
            "<th>Movie</th>\n",
            "<th>Actors</th>\n",
            "<th>Director</th>\n",
            "<th>Year</th>\n",
            "</tr>\n",
            "<tr class=\"oscar\">\n",
            "<td>Green Book</td>\n",
            "<td>Viggo Mortensen, Mahershala Ali, Linda Cardellini</td>\n",
            "<td>Peter Farrelly</td>\n",
            "<td>2018</td>\n",
            "</tr>\n",
            "<tr class=\"oscar\">\n",
            "<td>The Post</td>\n",
            "<td>Meryl Streep, Tom Hanks, Sarah Paulson</td>\n",
            "<td>Steven Spielberg</td>\n",
            "<td>2017</td>\n",
            "</tr>\n",
            "<tr class=\"oscar\">\n",
            "<td>Roma</td>\n",
            "<td>Yalitza Aparicio, Marina de Tavira</td>\n",
            "<td>Alfonso Cuarón</td>\n",
            "<td>2018</td>\n",
            "</tr>\n",
            "<tr class=\"oscar\">\n",
            "<td>Spotlight</td>\n",
            "<td>Mark Rufallo, Michael Keaton, Rachel McAdams</td>\n",
            "<td>Tom McCarthy</td>\n",
            "<td>2015</td>\n",
            "</tr>\n",
            "</table>\n",
            "6 \n",
            "\n",
            "[<h2>Participant Films</h2>, <img alt=\"participant\" src=\"https://upload.wikimedia.org/wikipedia/commons/0/07/Participant_%282019%29.svg\"/>, <table>\n",
            "<tr>\n",
            "<th>Movie</th>\n",
            "<th>Actors</th>\n",
            "<th>Director</th>\n",
            "<th>Year</th>\n",
            "</tr>\n",
            "<tr class=\"oscar\">\n",
            "<td>Green Book</td>\n",
            "<td>Viggo Mortensen, Mahershala Ali, Linda Cardellini</td>\n",
            "<td>Peter Farrelly</td>\n",
            "<td>2018</td>\n",
            "</tr>\n",
            "<tr class=\"oscar\">\n",
            "<td>The Post</td>\n",
            "<td>Meryl Streep, Tom Hanks, Sarah Paulson</td>\n",
            "<td>Steven Spielberg</td>\n",
            "<td>2017</td>\n",
            "</tr>\n",
            "<tr class=\"oscar\">\n",
            "<td>Roma</td>\n",
            "<td>Yalitza Aparicio, Marina de Tavira</td>\n",
            "<td>Alfonso Cuarón</td>\n",
            "<td>2018</td>\n",
            "</tr>\n",
            "<tr class=\"oscar\">\n",
            "<td>Spotlight</td>\n",
            "<td>Mark Rufallo, Michael Keaton, Rachel McAdams</td>\n",
            "<td>Tom McCarthy</td>\n",
            "<td>2015</td>\n",
            "</tr>\n",
            "</table>]\n"
          ]
        }
      ],
      "source": [
        "participant = site.find(id='participant')\n",
        "for i, child in enumerate(participant.children):\n",
        "  print(i, child)\n",
        "\n",
        "print(participant.find_all(recursive=False))"
      ]
    },
    {
      "cell_type": "markdown",
      "metadata": {
        "id": "3gtOa-nN93rs"
      },
      "source": [
        "Para conseguir todas as tags descendentes de uma tag, você pode usar o `.descendants`. \n",
        "\n",
        "Ele gera um iterador, caso você queria uma lista, pode usar o `.find_all()`."
      ]
    },
    {
      "cell_type": "code",
      "execution_count": 20,
      "metadata": {
        "colab": {
          "base_uri": "https://localhost:8080/"
        },
        "id": "R5OIubo29-S-",
        "outputId": "d98cdeff-8dda-49cc-9297-8054fb7991b3"
      },
      "outputs": [
        {
          "name": "stdout",
          "output_type": "stream",
          "text": [
            "[<h2>Participant Films</h2>, <img alt=\"participant\" src=\"https://upload.wikimedia.org/wikipedia/commons/0/07/Participant_%282019%29.svg\"/>, <table>\n",
            "<tr>\n",
            "<th>Movie</th>\n",
            "<th>Actors</th>\n",
            "<th>Director</th>\n",
            "<th>Year</th>\n",
            "</tr>\n",
            "<tr class=\"oscar\">\n",
            "<td>Green Book</td>\n",
            "<td>Viggo Mortensen, Mahershala Ali, Linda Cardellini</td>\n",
            "<td>Peter Farrelly</td>\n",
            "<td>2018</td>\n",
            "</tr>\n",
            "<tr class=\"oscar\">\n",
            "<td>The Post</td>\n",
            "<td>Meryl Streep, Tom Hanks, Sarah Paulson</td>\n",
            "<td>Steven Spielberg</td>\n",
            "<td>2017</td>\n",
            "</tr>\n",
            "<tr class=\"oscar\">\n",
            "<td>Roma</td>\n",
            "<td>Yalitza Aparicio, Marina de Tavira</td>\n",
            "<td>Alfonso Cuarón</td>\n",
            "<td>2018</td>\n",
            "</tr>\n",
            "<tr class=\"oscar\">\n",
            "<td>Spotlight</td>\n",
            "<td>Mark Rufallo, Michael Keaton, Rachel McAdams</td>\n",
            "<td>Tom McCarthy</td>\n",
            "<td>2015</td>\n",
            "</tr>\n",
            "</table>, <tr>\n",
            "<th>Movie</th>\n",
            "<th>Actors</th>\n",
            "<th>Director</th>\n",
            "<th>Year</th>\n",
            "</tr>, <th>Movie</th>, <th>Actors</th>, <th>Director</th>, <th>Year</th>, <tr class=\"oscar\">\n",
            "<td>Green Book</td>\n",
            "<td>Viggo Mortensen, Mahershala Ali, Linda Cardellini</td>\n",
            "<td>Peter Farrelly</td>\n",
            "<td>2018</td>\n",
            "</tr>, <td>Green Book</td>, <td>Viggo Mortensen, Mahershala Ali, Linda Cardellini</td>, <td>Peter Farrelly</td>, <td>2018</td>, <tr class=\"oscar\">\n",
            "<td>The Post</td>\n",
            "<td>Meryl Streep, Tom Hanks, Sarah Paulson</td>\n",
            "<td>Steven Spielberg</td>\n",
            "<td>2017</td>\n",
            "</tr>, <td>The Post</td>, <td>Meryl Streep, Tom Hanks, Sarah Paulson</td>, <td>Steven Spielberg</td>, <td>2017</td>, <tr class=\"oscar\">\n",
            "<td>Roma</td>\n",
            "<td>Yalitza Aparicio, Marina de Tavira</td>\n",
            "<td>Alfonso Cuarón</td>\n",
            "<td>2018</td>\n",
            "</tr>, <td>Roma</td>, <td>Yalitza Aparicio, Marina de Tavira</td>, <td>Alfonso Cuarón</td>, <td>2018</td>, <tr class=\"oscar\">\n",
            "<td>Spotlight</td>\n",
            "<td>Mark Rufallo, Michael Keaton, Rachel McAdams</td>\n",
            "<td>Tom McCarthy</td>\n",
            "<td>2015</td>\n",
            "</tr>, <td>Spotlight</td>, <td>Mark Rufallo, Michael Keaton, Rachel McAdams</td>, <td>Tom McCarthy</td>, <td>2015</td>]\n"
          ]
        }
      ],
      "source": [
        "# for i, child in enumerate(participant.descendants):\n",
        "#   print(i, child)\n",
        "\n",
        "print(participant.find_all())"
      ]
    },
    {
      "cell_type": "markdown",
      "metadata": {
        "id": "1ZQJdivM_cPS"
      },
      "source": [
        "Para chamar os irmãos seguintes a uma tag, usamos `.next_siblings`:"
      ]
    },
    {
      "cell_type": "code",
      "execution_count": 21,
      "metadata": {
        "colab": {
          "base_uri": "https://localhost:8080/"
        },
        "id": "1MltBANx-oPM",
        "outputId": "0c5c7399-0b3d-41e6-f23a-e76cbb899947"
      },
      "outputs": [
        {
          "name": "stdout",
          "output_type": "stream",
          "text": [
            "\n",
            "\n",
            "<tr class=\"oscar\">\n",
            "<td>Roma</td>\n",
            "<td>Yalitza Aparicio, Marina de Tavira</td>\n",
            "<td>Alfonso Cuarón</td>\n",
            "<td>2018</td>\n",
            "</tr>\n",
            "\n",
            "\n",
            "<tr class=\"oscar\">\n",
            "<td>Spotlight</td>\n",
            "<td>Mark Rufallo, Michael Keaton, Rachel McAdams</td>\n",
            "<td>Tom McCarthy</td>\n",
            "<td>2015</td>\n",
            "</tr>\n",
            "\n",
            "\n"
          ]
        }
      ],
      "source": [
        "the_post = participant.find_all('tr')[2]\n",
        "for sibling in the_post.next_siblings:\n",
        "  print(sibling)"
      ]
    },
    {
      "cell_type": "markdown",
      "metadata": {
        "id": "_xEBP7yhAgcw"
      },
      "source": [
        "Para chamar os irmãos anteriores a uma tag, usamos `.previous_siblings`:"
      ]
    },
    {
      "cell_type": "code",
      "execution_count": 22,
      "metadata": {
        "colab": {
          "base_uri": "https://localhost:8080/"
        },
        "id": "lZlSI7GhAaE_",
        "outputId": "8fd3c828-b613-4547-cfa1-d4b52432d260"
      },
      "outputs": [
        {
          "name": "stdout",
          "output_type": "stream",
          "text": [
            "\n",
            "\n",
            "<tr class=\"oscar\">\n",
            "<td>Green Book</td>\n",
            "<td>Viggo Mortensen, Mahershala Ali, Linda Cardellini</td>\n",
            "<td>Peter Farrelly</td>\n",
            "<td>2018</td>\n",
            "</tr>\n",
            "\n",
            "\n",
            "<tr>\n",
            "<th>Movie</th>\n",
            "<th>Actors</th>\n",
            "<th>Director</th>\n",
            "<th>Year</th>\n",
            "</tr>\n",
            "\n",
            "\n"
          ]
        }
      ],
      "source": [
        "for sibling in the_post.previous_siblings:\n",
        "  print(sibling)"
      ]
    },
    {
      "cell_type": "markdown",
      "metadata": {
        "id": "F4PA7h-KAxqL"
      },
      "source": [
        "Para obter a tag pai de uma determinada tag, utilizamos o `.parent`:"
      ]
    },
    {
      "cell_type": "code",
      "execution_count": 23,
      "metadata": {
        "colab": {
          "base_uri": "https://localhost:8080/"
        },
        "id": "sUawbCKcAo4c",
        "outputId": "aa06dd93-cadb-4852-8b2a-aff48a1455b5"
      },
      "outputs": [
        {
          "data": {
            "text/plain": [
              "<table>\n",
              "<tr>\n",
              "<th>Movie</th>\n",
              "<th>Actors</th>\n",
              "<th>Director</th>\n",
              "<th>Year</th>\n",
              "</tr>\n",
              "<tr class=\"oscar\">\n",
              "<td>Green Book</td>\n",
              "<td>Viggo Mortensen, Mahershala Ali, Linda Cardellini</td>\n",
              "<td>Peter Farrelly</td>\n",
              "<td>2018</td>\n",
              "</tr>\n",
              "<tr class=\"oscar\">\n",
              "<td>The Post</td>\n",
              "<td>Meryl Streep, Tom Hanks, Sarah Paulson</td>\n",
              "<td>Steven Spielberg</td>\n",
              "<td>2017</td>\n",
              "</tr>\n",
              "<tr class=\"oscar\">\n",
              "<td>Roma</td>\n",
              "<td>Yalitza Aparicio, Marina de Tavira</td>\n",
              "<td>Alfonso Cuarón</td>\n",
              "<td>2018</td>\n",
              "</tr>\n",
              "<tr class=\"oscar\">\n",
              "<td>Spotlight</td>\n",
              "<td>Mark Rufallo, Michael Keaton, Rachel McAdams</td>\n",
              "<td>Tom McCarthy</td>\n",
              "<td>2015</td>\n",
              "</tr>\n",
              "</table>"
            ]
          },
          "execution_count": 23,
          "metadata": {},
          "output_type": "execute_result"
        }
      ],
      "source": [
        "the_post.parent"
      ]
    },
    {
      "cell_type": "markdown",
      "metadata": {
        "id": "mxhlgawnBDAO"
      },
      "source": [
        "Para relembrar a sintaxe do regex (expressão regular), utilize a página 45 do livro.\n",
        "Para usar o regex, utilize o `re.compile()`:"
      ]
    },
    {
      "cell_type": "code",
      "execution_count": 24,
      "metadata": {
        "colab": {
          "base_uri": "https://localhost:8080/"
        },
        "id": "hyl4f85NENaM",
        "outputId": "4b681a3f-276b-4624-8969-3a0b89483d9f"
      },
      "outputs": [
        {
          "data": {
            "text/plain": [
              "<tr class=\"oscar\">\n",
              "<td>The Post</td>\n",
              "<td>Meryl Streep, Tom Hanks, Sarah Paulson</td>\n",
              "<td>Steven Spielberg</td>\n",
              "<td>2017</td>\n",
              "</tr>"
            ]
          },
          "execution_count": 24,
          "metadata": {},
          "output_type": "execute_result"
        }
      ],
      "source": [
        "# site.find_all('img', {'src': re.compile('.*svg$')})\n",
        "site.find_all('td', text=re.compile('The Post'))[0].parent"
      ]
    },
    {
      "cell_type": "markdown",
      "metadata": {
        "id": "0CE9ZjMoFim6"
      },
      "source": [
        "Para acessar atributos de uma tag usamos `.attrs`"
      ]
    },
    {
      "cell_type": "code",
      "execution_count": 25,
      "metadata": {
        "colab": {
          "base_uri": "https://localhost:8080/",
          "height": 36
        },
        "id": "BZguSXqHFUs1",
        "outputId": "fd5404db-8038-4d17-c69b-d649e4c8b386"
      },
      "outputs": [
        {
          "data": {
            "text/plain": [
              "{'lang': 'en'}"
            ]
          },
          "execution_count": 25,
          "metadata": {},
          "output_type": "execute_result"
        }
      ],
      "source": [
        "site.html.attrs"
      ]
    },
    {
      "cell_type": "markdown",
      "metadata": {
        "id": "QIP_4oj5F_fD"
      },
      "source": [
        "Para utilizar expressões lambda, precisamos que elas esperem um parâmetro do tipo BeautifulSoup e que retornem um valor booleano. Dessa forma, o `find` e o `find_all` filtram a partir do resultado da expressão."
      ]
    },
    {
      "cell_type": "code",
      "execution_count": 26,
      "metadata": {
        "colab": {
          "base_uri": "https://localhost:8080/"
        },
        "id": "-IxNqZsnF8kV",
        "outputId": "d1b2ca41-49d9-4852-eaa3-4124bdab43bc"
      },
      "outputs": [
        {
          "data": {
            "text/plain": [
              "[<html lang=\"en\">\n",
              " <head>\n",
              " <meta charset=\"utf-8\"/>\n",
              " <meta content=\"IE=edge\" http-equiv=\"X-UA-Compatible\"/>\n",
              " <meta content=\"width=device-width, initial-scale=1.0\" name=\"viewport\"/>\n",
              " <title>Caps 1-2</title>\n",
              " </head>\n",
              " <style>\n",
              " \n",
              "     body {\n",
              "         margin: 0;\n",
              "         padding: 1em 1em 2em 1em;\n",
              "     }\n",
              "     table {\n",
              "         margin: 1em 0em;\n",
              "         font-family: arial, sans-serif;\n",
              "         border-collapse: collapse;\n",
              "         width: 100%;\n",
              "     }\n",
              "     \n",
              "     td, th {\n",
              "         border: 1px solid #dddddd;\n",
              "         text-align: left;\n",
              "         padding: 8px;\n",
              "     }\n",
              "     \n",
              "     .oscar {\n",
              "         background-color: gold !important; \n",
              "     }\n",
              "     \n",
              "     tr:nth-child(even) {\n",
              "       background-color: #dddddd;\n",
              "     }\n",
              " \n",
              "     img {\n",
              "         width: 15%;\n",
              "         max-height: 5%;\n",
              "     }\n",
              " \n",
              " </style>\n",
              " <body>\n",
              " <h1>Movie List by Production Companies</h1>\n",
              " <div id=\"warner\">\n",
              " <h2>Warner Bros. Pictures</h2>\n",
              " <img alt=\"warner\" src=\"https://upload.wikimedia.org/wikipedia/commons/thumb/d/d2/Warner_Bros._%282019%29_logo.svg/1200px-Warner_Bros._%282019%29_logo.svg.png\"/>\n",
              " <table>\n",
              " <tr>\n",
              " <th>Movie</th>\n",
              " <th>Actors</th>\n",
              " <th>Year</th>\n",
              " <th>Director</th>\n",
              " </tr>\n",
              " <tr>\n",
              " <td>Harry Potter and the Philosopher's Stone</td>\n",
              " <td>Daniel Radcliffe, Emma Watson, Rupert Grint, Alan Rickman, Richard Harris</td>\n",
              " <td>2001</td>\n",
              " <td>Chris Columbus</td>\n",
              " </tr>\n",
              " <tr>\n",
              " <td>Harry Potter and the Chamber of Secrets</td>\n",
              " <td>Daniel Radcliffe, Emma Watson, Rupert Grint, Alan Rickman, Richard Harris</td>\n",
              " <td>2002</td>\n",
              " <td>Chris Columbus</td>\n",
              " </tr>\n",
              " <tr>\n",
              " <td>Harry Potter and the Prisoner of Askaban</td>\n",
              " <td>Daniel Radcliffe, Emma Watson, Rupert Grint, Alan Rickman, Michael Gambon</td>\n",
              " <td>2004</td>\n",
              " <td>Alfonso Cuarón</td>\n",
              " </tr>\n",
              " <tr>\n",
              " <td>Harry Potter and the Goblet of Fire</td>\n",
              " <td>Daniel Radcliffe, Emma Watson, Rupert Grint, Alan Rickman, Michael Gambon</td>\n",
              " <td>2005</td>\n",
              " <td>Mike Newell</td>\n",
              " </tr>\n",
              " <tr>\n",
              " <td>Harry Potter and the Order of the Phoenix</td>\n",
              " <td>Daniel Radcliffe, Emma Watson, Rupert Grint, Alan Rickman, Michael Gambon</td>\n",
              " <td>2007</td>\n",
              " <td>David Yates</td>\n",
              " </tr>\n",
              " <tr>\n",
              " <td>Harry Potter and the Half-Blood Prince</td>\n",
              " <td>Daniel Radcliffe, Emma Watson, Rupert Grint, Alan Rickman, Michael Gambon</td>\n",
              " <td>2009</td>\n",
              " <td>David Yates</td>\n",
              " </tr>\n",
              " <tr>\n",
              " <td>Harry Potter and the Deathly Hallows: Part 1</td>\n",
              " <td>Daniel Radcliffe, Emma Watson, Rupert Grint, Alan Rickman, Michael Gambon</td>\n",
              " <td>2010</td>\n",
              " <td>David Yates</td>\n",
              " </tr>\n",
              " <tr>\n",
              " <td>Harry Potter and the Deathly Hallows: Part 2</td>\n",
              " <td>Daniel Radcliffe, Emma Watson, Rupert Grint, Alan Rickman, Michael Gambon</td>\n",
              " <td>2011</td>\n",
              " <td>David Yates</td>\n",
              " </tr>\n",
              " <tr>\n",
              " <td>Dune</td>\n",
              " <td>Timothée Chalamet, Rebecca Ferguson, Oscar Isaac</td>\n",
              " <td>2021</td>\n",
              " <td>Denis Villeneuve</td>\n",
              " </tr>\n",
              " </table>\n",
              " </div>\n",
              " <br/>\n",
              " <hr/>\n",
              " <br/>\n",
              " <div id=\"participant\">\n",
              " <h2>Participant Films</h2>\n",
              " <img alt=\"participant\" src=\"https://upload.wikimedia.org/wikipedia/commons/0/07/Participant_%282019%29.svg\"/>\n",
              " <table>\n",
              " <tr>\n",
              " <th>Movie</th>\n",
              " <th>Actors</th>\n",
              " <th>Director</th>\n",
              " <th>Year</th>\n",
              " </tr>\n",
              " <tr class=\"oscar\">\n",
              " <td>Green Book</td>\n",
              " <td>Viggo Mortensen, Mahershala Ali, Linda Cardellini</td>\n",
              " <td>Peter Farrelly</td>\n",
              " <td>2018</td>\n",
              " </tr>\n",
              " <tr class=\"oscar\">\n",
              " <td>The Post</td>\n",
              " <td>Meryl Streep, Tom Hanks, Sarah Paulson</td>\n",
              " <td>Steven Spielberg</td>\n",
              " <td>2017</td>\n",
              " </tr>\n",
              " <tr class=\"oscar\">\n",
              " <td>Roma</td>\n",
              " <td>Yalitza Aparicio, Marina de Tavira</td>\n",
              " <td>Alfonso Cuarón</td>\n",
              " <td>2018</td>\n",
              " </tr>\n",
              " <tr class=\"oscar\">\n",
              " <td>Spotlight</td>\n",
              " <td>Mark Rufallo, Michael Keaton, Rachel McAdams</td>\n",
              " <td>Tom McCarthy</td>\n",
              " <td>2015</td>\n",
              " </tr>\n",
              " </table>\n",
              " </div>\n",
              " </body>\n",
              " </html>,\n",
              " <head>\n",
              " <meta charset=\"utf-8\"/>\n",
              " <meta content=\"IE=edge\" http-equiv=\"X-UA-Compatible\"/>\n",
              " <meta content=\"width=device-width, initial-scale=1.0\" name=\"viewport\"/>\n",
              " <title>Caps 1-2</title>\n",
              " </head>,\n",
              " <meta charset=\"utf-8\"/>,\n",
              " <meta content=\"IE=edge\" http-equiv=\"X-UA-Compatible\"/>,\n",
              " <meta content=\"width=device-width, initial-scale=1.0\" name=\"viewport\"/>,\n",
              " <title>Caps 1-2</title>,\n",
              " <style>\n",
              " \n",
              "     body {\n",
              "         margin: 0;\n",
              "         padding: 1em 1em 2em 1em;\n",
              "     }\n",
              "     table {\n",
              "         margin: 1em 0em;\n",
              "         font-family: arial, sans-serif;\n",
              "         border-collapse: collapse;\n",
              "         width: 100%;\n",
              "     }\n",
              "     \n",
              "     td, th {\n",
              "         border: 1px solid #dddddd;\n",
              "         text-align: left;\n",
              "         padding: 8px;\n",
              "     }\n",
              "     \n",
              "     .oscar {\n",
              "         background-color: gold !important; \n",
              "     }\n",
              "     \n",
              "     tr:nth-child(even) {\n",
              "       background-color: #dddddd;\n",
              "     }\n",
              " \n",
              "     img {\n",
              "         width: 15%;\n",
              "         max-height: 5%;\n",
              "     }\n",
              " \n",
              " </style>,\n",
              " <body>\n",
              " <h1>Movie List by Production Companies</h1>\n",
              " <div id=\"warner\">\n",
              " <h2>Warner Bros. Pictures</h2>\n",
              " <img alt=\"warner\" src=\"https://upload.wikimedia.org/wikipedia/commons/thumb/d/d2/Warner_Bros._%282019%29_logo.svg/1200px-Warner_Bros._%282019%29_logo.svg.png\"/>\n",
              " <table>\n",
              " <tr>\n",
              " <th>Movie</th>\n",
              " <th>Actors</th>\n",
              " <th>Year</th>\n",
              " <th>Director</th>\n",
              " </tr>\n",
              " <tr>\n",
              " <td>Harry Potter and the Philosopher's Stone</td>\n",
              " <td>Daniel Radcliffe, Emma Watson, Rupert Grint, Alan Rickman, Richard Harris</td>\n",
              " <td>2001</td>\n",
              " <td>Chris Columbus</td>\n",
              " </tr>\n",
              " <tr>\n",
              " <td>Harry Potter and the Chamber of Secrets</td>\n",
              " <td>Daniel Radcliffe, Emma Watson, Rupert Grint, Alan Rickman, Richard Harris</td>\n",
              " <td>2002</td>\n",
              " <td>Chris Columbus</td>\n",
              " </tr>\n",
              " <tr>\n",
              " <td>Harry Potter and the Prisoner of Askaban</td>\n",
              " <td>Daniel Radcliffe, Emma Watson, Rupert Grint, Alan Rickman, Michael Gambon</td>\n",
              " <td>2004</td>\n",
              " <td>Alfonso Cuarón</td>\n",
              " </tr>\n",
              " <tr>\n",
              " <td>Harry Potter and the Goblet of Fire</td>\n",
              " <td>Daniel Radcliffe, Emma Watson, Rupert Grint, Alan Rickman, Michael Gambon</td>\n",
              " <td>2005</td>\n",
              " <td>Mike Newell</td>\n",
              " </tr>\n",
              " <tr>\n",
              " <td>Harry Potter and the Order of the Phoenix</td>\n",
              " <td>Daniel Radcliffe, Emma Watson, Rupert Grint, Alan Rickman, Michael Gambon</td>\n",
              " <td>2007</td>\n",
              " <td>David Yates</td>\n",
              " </tr>\n",
              " <tr>\n",
              " <td>Harry Potter and the Half-Blood Prince</td>\n",
              " <td>Daniel Radcliffe, Emma Watson, Rupert Grint, Alan Rickman, Michael Gambon</td>\n",
              " <td>2009</td>\n",
              " <td>David Yates</td>\n",
              " </tr>\n",
              " <tr>\n",
              " <td>Harry Potter and the Deathly Hallows: Part 1</td>\n",
              " <td>Daniel Radcliffe, Emma Watson, Rupert Grint, Alan Rickman, Michael Gambon</td>\n",
              " <td>2010</td>\n",
              " <td>David Yates</td>\n",
              " </tr>\n",
              " <tr>\n",
              " <td>Harry Potter and the Deathly Hallows: Part 2</td>\n",
              " <td>Daniel Radcliffe, Emma Watson, Rupert Grint, Alan Rickman, Michael Gambon</td>\n",
              " <td>2011</td>\n",
              " <td>David Yates</td>\n",
              " </tr>\n",
              " <tr>\n",
              " <td>Dune</td>\n",
              " <td>Timothée Chalamet, Rebecca Ferguson, Oscar Isaac</td>\n",
              " <td>2021</td>\n",
              " <td>Denis Villeneuve</td>\n",
              " </tr>\n",
              " </table>\n",
              " </div>\n",
              " <br/>\n",
              " <hr/>\n",
              " <br/>\n",
              " <div id=\"participant\">\n",
              " <h2>Participant Films</h2>\n",
              " <img alt=\"participant\" src=\"https://upload.wikimedia.org/wikipedia/commons/0/07/Participant_%282019%29.svg\"/>\n",
              " <table>\n",
              " <tr>\n",
              " <th>Movie</th>\n",
              " <th>Actors</th>\n",
              " <th>Director</th>\n",
              " <th>Year</th>\n",
              " </tr>\n",
              " <tr class=\"oscar\">\n",
              " <td>Green Book</td>\n",
              " <td>Viggo Mortensen, Mahershala Ali, Linda Cardellini</td>\n",
              " <td>Peter Farrelly</td>\n",
              " <td>2018</td>\n",
              " </tr>\n",
              " <tr class=\"oscar\">\n",
              " <td>The Post</td>\n",
              " <td>Meryl Streep, Tom Hanks, Sarah Paulson</td>\n",
              " <td>Steven Spielberg</td>\n",
              " <td>2017</td>\n",
              " </tr>\n",
              " <tr class=\"oscar\">\n",
              " <td>Roma</td>\n",
              " <td>Yalitza Aparicio, Marina de Tavira</td>\n",
              " <td>Alfonso Cuarón</td>\n",
              " <td>2018</td>\n",
              " </tr>\n",
              " <tr class=\"oscar\">\n",
              " <td>Spotlight</td>\n",
              " <td>Mark Rufallo, Michael Keaton, Rachel McAdams</td>\n",
              " <td>Tom McCarthy</td>\n",
              " <td>2015</td>\n",
              " </tr>\n",
              " </table>\n",
              " </div>\n",
              " </body>,\n",
              " <h1>Movie List by Production Companies</h1>,\n",
              " <div id=\"warner\">\n",
              " <h2>Warner Bros. Pictures</h2>\n",
              " <img alt=\"warner\" src=\"https://upload.wikimedia.org/wikipedia/commons/thumb/d/d2/Warner_Bros._%282019%29_logo.svg/1200px-Warner_Bros._%282019%29_logo.svg.png\"/>\n",
              " <table>\n",
              " <tr>\n",
              " <th>Movie</th>\n",
              " <th>Actors</th>\n",
              " <th>Year</th>\n",
              " <th>Director</th>\n",
              " </tr>\n",
              " <tr>\n",
              " <td>Harry Potter and the Philosopher's Stone</td>\n",
              " <td>Daniel Radcliffe, Emma Watson, Rupert Grint, Alan Rickman, Richard Harris</td>\n",
              " <td>2001</td>\n",
              " <td>Chris Columbus</td>\n",
              " </tr>\n",
              " <tr>\n",
              " <td>Harry Potter and the Chamber of Secrets</td>\n",
              " <td>Daniel Radcliffe, Emma Watson, Rupert Grint, Alan Rickman, Richard Harris</td>\n",
              " <td>2002</td>\n",
              " <td>Chris Columbus</td>\n",
              " </tr>\n",
              " <tr>\n",
              " <td>Harry Potter and the Prisoner of Askaban</td>\n",
              " <td>Daniel Radcliffe, Emma Watson, Rupert Grint, Alan Rickman, Michael Gambon</td>\n",
              " <td>2004</td>\n",
              " <td>Alfonso Cuarón</td>\n",
              " </tr>\n",
              " <tr>\n",
              " <td>Harry Potter and the Goblet of Fire</td>\n",
              " <td>Daniel Radcliffe, Emma Watson, Rupert Grint, Alan Rickman, Michael Gambon</td>\n",
              " <td>2005</td>\n",
              " <td>Mike Newell</td>\n",
              " </tr>\n",
              " <tr>\n",
              " <td>Harry Potter and the Order of the Phoenix</td>\n",
              " <td>Daniel Radcliffe, Emma Watson, Rupert Grint, Alan Rickman, Michael Gambon</td>\n",
              " <td>2007</td>\n",
              " <td>David Yates</td>\n",
              " </tr>\n",
              " <tr>\n",
              " <td>Harry Potter and the Half-Blood Prince</td>\n",
              " <td>Daniel Radcliffe, Emma Watson, Rupert Grint, Alan Rickman, Michael Gambon</td>\n",
              " <td>2009</td>\n",
              " <td>David Yates</td>\n",
              " </tr>\n",
              " <tr>\n",
              " <td>Harry Potter and the Deathly Hallows: Part 1</td>\n",
              " <td>Daniel Radcliffe, Emma Watson, Rupert Grint, Alan Rickman, Michael Gambon</td>\n",
              " <td>2010</td>\n",
              " <td>David Yates</td>\n",
              " </tr>\n",
              " <tr>\n",
              " <td>Harry Potter and the Deathly Hallows: Part 2</td>\n",
              " <td>Daniel Radcliffe, Emma Watson, Rupert Grint, Alan Rickman, Michael Gambon</td>\n",
              " <td>2011</td>\n",
              " <td>David Yates</td>\n",
              " </tr>\n",
              " <tr>\n",
              " <td>Dune</td>\n",
              " <td>Timothée Chalamet, Rebecca Ferguson, Oscar Isaac</td>\n",
              " <td>2021</td>\n",
              " <td>Denis Villeneuve</td>\n",
              " </tr>\n",
              " </table>\n",
              " </div>,\n",
              " <h2>Warner Bros. Pictures</h2>,\n",
              " <img alt=\"warner\" src=\"https://upload.wikimedia.org/wikipedia/commons/thumb/d/d2/Warner_Bros._%282019%29_logo.svg/1200px-Warner_Bros._%282019%29_logo.svg.png\"/>,\n",
              " <table>\n",
              " <tr>\n",
              " <th>Movie</th>\n",
              " <th>Actors</th>\n",
              " <th>Year</th>\n",
              " <th>Director</th>\n",
              " </tr>\n",
              " <tr>\n",
              " <td>Harry Potter and the Philosopher's Stone</td>\n",
              " <td>Daniel Radcliffe, Emma Watson, Rupert Grint, Alan Rickman, Richard Harris</td>\n",
              " <td>2001</td>\n",
              " <td>Chris Columbus</td>\n",
              " </tr>\n",
              " <tr>\n",
              " <td>Harry Potter and the Chamber of Secrets</td>\n",
              " <td>Daniel Radcliffe, Emma Watson, Rupert Grint, Alan Rickman, Richard Harris</td>\n",
              " <td>2002</td>\n",
              " <td>Chris Columbus</td>\n",
              " </tr>\n",
              " <tr>\n",
              " <td>Harry Potter and the Prisoner of Askaban</td>\n",
              " <td>Daniel Radcliffe, Emma Watson, Rupert Grint, Alan Rickman, Michael Gambon</td>\n",
              " <td>2004</td>\n",
              " <td>Alfonso Cuarón</td>\n",
              " </tr>\n",
              " <tr>\n",
              " <td>Harry Potter and the Goblet of Fire</td>\n",
              " <td>Daniel Radcliffe, Emma Watson, Rupert Grint, Alan Rickman, Michael Gambon</td>\n",
              " <td>2005</td>\n",
              " <td>Mike Newell</td>\n",
              " </tr>\n",
              " <tr>\n",
              " <td>Harry Potter and the Order of the Phoenix</td>\n",
              " <td>Daniel Radcliffe, Emma Watson, Rupert Grint, Alan Rickman, Michael Gambon</td>\n",
              " <td>2007</td>\n",
              " <td>David Yates</td>\n",
              " </tr>\n",
              " <tr>\n",
              " <td>Harry Potter and the Half-Blood Prince</td>\n",
              " <td>Daniel Radcliffe, Emma Watson, Rupert Grint, Alan Rickman, Michael Gambon</td>\n",
              " <td>2009</td>\n",
              " <td>David Yates</td>\n",
              " </tr>\n",
              " <tr>\n",
              " <td>Harry Potter and the Deathly Hallows: Part 1</td>\n",
              " <td>Daniel Radcliffe, Emma Watson, Rupert Grint, Alan Rickman, Michael Gambon</td>\n",
              " <td>2010</td>\n",
              " <td>David Yates</td>\n",
              " </tr>\n",
              " <tr>\n",
              " <td>Harry Potter and the Deathly Hallows: Part 2</td>\n",
              " <td>Daniel Radcliffe, Emma Watson, Rupert Grint, Alan Rickman, Michael Gambon</td>\n",
              " <td>2011</td>\n",
              " <td>David Yates</td>\n",
              " </tr>\n",
              " <tr>\n",
              " <td>Dune</td>\n",
              " <td>Timothée Chalamet, Rebecca Ferguson, Oscar Isaac</td>\n",
              " <td>2021</td>\n",
              " <td>Denis Villeneuve</td>\n",
              " </tr>\n",
              " </table>,\n",
              " <tr>\n",
              " <th>Movie</th>\n",
              " <th>Actors</th>\n",
              " <th>Year</th>\n",
              " <th>Director</th>\n",
              " </tr>,\n",
              " <th>Movie</th>,\n",
              " <th>Actors</th>,\n",
              " <th>Year</th>,\n",
              " <th>Director</th>,\n",
              " <tr>\n",
              " <td>Harry Potter and the Philosopher's Stone</td>\n",
              " <td>Daniel Radcliffe, Emma Watson, Rupert Grint, Alan Rickman, Richard Harris</td>\n",
              " <td>2001</td>\n",
              " <td>Chris Columbus</td>\n",
              " </tr>,\n",
              " <td>Harry Potter and the Philosopher's Stone</td>,\n",
              " <td>Daniel Radcliffe, Emma Watson, Rupert Grint, Alan Rickman, Richard Harris</td>,\n",
              " <td>2001</td>,\n",
              " <td>Chris Columbus</td>,\n",
              " <tr>\n",
              " <td>Harry Potter and the Chamber of Secrets</td>\n",
              " <td>Daniel Radcliffe, Emma Watson, Rupert Grint, Alan Rickman, Richard Harris</td>\n",
              " <td>2002</td>\n",
              " <td>Chris Columbus</td>\n",
              " </tr>,\n",
              " <td>Harry Potter and the Chamber of Secrets</td>,\n",
              " <td>Daniel Radcliffe, Emma Watson, Rupert Grint, Alan Rickman, Richard Harris</td>,\n",
              " <td>2002</td>,\n",
              " <td>Chris Columbus</td>,\n",
              " <tr>\n",
              " <td>Harry Potter and the Prisoner of Askaban</td>\n",
              " <td>Daniel Radcliffe, Emma Watson, Rupert Grint, Alan Rickman, Michael Gambon</td>\n",
              " <td>2004</td>\n",
              " <td>Alfonso Cuarón</td>\n",
              " </tr>,\n",
              " <td>Harry Potter and the Prisoner of Askaban</td>,\n",
              " <td>Daniel Radcliffe, Emma Watson, Rupert Grint, Alan Rickman, Michael Gambon</td>,\n",
              " <td>2004</td>,\n",
              " <td>Alfonso Cuarón</td>,\n",
              " <tr>\n",
              " <td>Harry Potter and the Goblet of Fire</td>\n",
              " <td>Daniel Radcliffe, Emma Watson, Rupert Grint, Alan Rickman, Michael Gambon</td>\n",
              " <td>2005</td>\n",
              " <td>Mike Newell</td>\n",
              " </tr>,\n",
              " <td>Harry Potter and the Goblet of Fire</td>,\n",
              " <td>Daniel Radcliffe, Emma Watson, Rupert Grint, Alan Rickman, Michael Gambon</td>,\n",
              " <td>2005</td>,\n",
              " <td>Mike Newell</td>,\n",
              " <tr>\n",
              " <td>Harry Potter and the Order of the Phoenix</td>\n",
              " <td>Daniel Radcliffe, Emma Watson, Rupert Grint, Alan Rickman, Michael Gambon</td>\n",
              " <td>2007</td>\n",
              " <td>David Yates</td>\n",
              " </tr>,\n",
              " <td>Harry Potter and the Order of the Phoenix</td>,\n",
              " <td>Daniel Radcliffe, Emma Watson, Rupert Grint, Alan Rickman, Michael Gambon</td>,\n",
              " <td>2007</td>,\n",
              " <td>David Yates</td>,\n",
              " <tr>\n",
              " <td>Harry Potter and the Half-Blood Prince</td>\n",
              " <td>Daniel Radcliffe, Emma Watson, Rupert Grint, Alan Rickman, Michael Gambon</td>\n",
              " <td>2009</td>\n",
              " <td>David Yates</td>\n",
              " </tr>,\n",
              " <td>Harry Potter and the Half-Blood Prince</td>,\n",
              " <td>Daniel Radcliffe, Emma Watson, Rupert Grint, Alan Rickman, Michael Gambon</td>,\n",
              " <td>2009</td>,\n",
              " <td>David Yates</td>,\n",
              " <tr>\n",
              " <td>Harry Potter and the Deathly Hallows: Part 1</td>\n",
              " <td>Daniel Radcliffe, Emma Watson, Rupert Grint, Alan Rickman, Michael Gambon</td>\n",
              " <td>2010</td>\n",
              " <td>David Yates</td>\n",
              " </tr>,\n",
              " <td>Harry Potter and the Deathly Hallows: Part 1</td>,\n",
              " <td>Daniel Radcliffe, Emma Watson, Rupert Grint, Alan Rickman, Michael Gambon</td>,\n",
              " <td>2010</td>,\n",
              " <td>David Yates</td>,\n",
              " <tr>\n",
              " <td>Harry Potter and the Deathly Hallows: Part 2</td>\n",
              " <td>Daniel Radcliffe, Emma Watson, Rupert Grint, Alan Rickman, Michael Gambon</td>\n",
              " <td>2011</td>\n",
              " <td>David Yates</td>\n",
              " </tr>,\n",
              " <td>Harry Potter and the Deathly Hallows: Part 2</td>,\n",
              " <td>Daniel Radcliffe, Emma Watson, Rupert Grint, Alan Rickman, Michael Gambon</td>,\n",
              " <td>2011</td>,\n",
              " <td>David Yates</td>,\n",
              " <tr>\n",
              " <td>Dune</td>\n",
              " <td>Timothée Chalamet, Rebecca Ferguson, Oscar Isaac</td>\n",
              " <td>2021</td>\n",
              " <td>Denis Villeneuve</td>\n",
              " </tr>,\n",
              " <td>Dune</td>,\n",
              " <td>Timothée Chalamet, Rebecca Ferguson, Oscar Isaac</td>,\n",
              " <td>2021</td>,\n",
              " <td>Denis Villeneuve</td>,\n",
              " <br/>,\n",
              " <hr/>,\n",
              " <br/>,\n",
              " <div id=\"participant\">\n",
              " <h2>Participant Films</h2>\n",
              " <img alt=\"participant\" src=\"https://upload.wikimedia.org/wikipedia/commons/0/07/Participant_%282019%29.svg\"/>\n",
              " <table>\n",
              " <tr>\n",
              " <th>Movie</th>\n",
              " <th>Actors</th>\n",
              " <th>Director</th>\n",
              " <th>Year</th>\n",
              " </tr>\n",
              " <tr class=\"oscar\">\n",
              " <td>Green Book</td>\n",
              " <td>Viggo Mortensen, Mahershala Ali, Linda Cardellini</td>\n",
              " <td>Peter Farrelly</td>\n",
              " <td>2018</td>\n",
              " </tr>\n",
              " <tr class=\"oscar\">\n",
              " <td>The Post</td>\n",
              " <td>Meryl Streep, Tom Hanks, Sarah Paulson</td>\n",
              " <td>Steven Spielberg</td>\n",
              " <td>2017</td>\n",
              " </tr>\n",
              " <tr class=\"oscar\">\n",
              " <td>Roma</td>\n",
              " <td>Yalitza Aparicio, Marina de Tavira</td>\n",
              " <td>Alfonso Cuarón</td>\n",
              " <td>2018</td>\n",
              " </tr>\n",
              " <tr class=\"oscar\">\n",
              " <td>Spotlight</td>\n",
              " <td>Mark Rufallo, Michael Keaton, Rachel McAdams</td>\n",
              " <td>Tom McCarthy</td>\n",
              " <td>2015</td>\n",
              " </tr>\n",
              " </table>\n",
              " </div>,\n",
              " <h2>Participant Films</h2>,\n",
              " <img alt=\"participant\" src=\"https://upload.wikimedia.org/wikipedia/commons/0/07/Participant_%282019%29.svg\"/>,\n",
              " <table>\n",
              " <tr>\n",
              " <th>Movie</th>\n",
              " <th>Actors</th>\n",
              " <th>Director</th>\n",
              " <th>Year</th>\n",
              " </tr>\n",
              " <tr class=\"oscar\">\n",
              " <td>Green Book</td>\n",
              " <td>Viggo Mortensen, Mahershala Ali, Linda Cardellini</td>\n",
              " <td>Peter Farrelly</td>\n",
              " <td>2018</td>\n",
              " </tr>\n",
              " <tr class=\"oscar\">\n",
              " <td>The Post</td>\n",
              " <td>Meryl Streep, Tom Hanks, Sarah Paulson</td>\n",
              " <td>Steven Spielberg</td>\n",
              " <td>2017</td>\n",
              " </tr>\n",
              " <tr class=\"oscar\">\n",
              " <td>Roma</td>\n",
              " <td>Yalitza Aparicio, Marina de Tavira</td>\n",
              " <td>Alfonso Cuarón</td>\n",
              " <td>2018</td>\n",
              " </tr>\n",
              " <tr class=\"oscar\">\n",
              " <td>Spotlight</td>\n",
              " <td>Mark Rufallo, Michael Keaton, Rachel McAdams</td>\n",
              " <td>Tom McCarthy</td>\n",
              " <td>2015</td>\n",
              " </tr>\n",
              " </table>,\n",
              " <tr>\n",
              " <th>Movie</th>\n",
              " <th>Actors</th>\n",
              " <th>Director</th>\n",
              " <th>Year</th>\n",
              " </tr>,\n",
              " <th>Movie</th>,\n",
              " <th>Actors</th>,\n",
              " <th>Director</th>,\n",
              " <th>Year</th>,\n",
              " <tr class=\"oscar\">\n",
              " <td>Green Book</td>\n",
              " <td>Viggo Mortensen, Mahershala Ali, Linda Cardellini</td>\n",
              " <td>Peter Farrelly</td>\n",
              " <td>2018</td>\n",
              " </tr>,\n",
              " <td>Green Book</td>,\n",
              " <td>Viggo Mortensen, Mahershala Ali, Linda Cardellini</td>,\n",
              " <td>Peter Farrelly</td>,\n",
              " <td>2018</td>,\n",
              " <tr class=\"oscar\">\n",
              " <td>The Post</td>\n",
              " <td>Meryl Streep, Tom Hanks, Sarah Paulson</td>\n",
              " <td>Steven Spielberg</td>\n",
              " <td>2017</td>\n",
              " </tr>,\n",
              " <td>The Post</td>,\n",
              " <td>Meryl Streep, Tom Hanks, Sarah Paulson</td>,\n",
              " <td>Steven Spielberg</td>,\n",
              " <td>2017</td>,\n",
              " <tr class=\"oscar\">\n",
              " <td>Roma</td>\n",
              " <td>Yalitza Aparicio, Marina de Tavira</td>\n",
              " <td>Alfonso Cuarón</td>\n",
              " <td>2018</td>\n",
              " </tr>,\n",
              " <td>Roma</td>,\n",
              " <td>Yalitza Aparicio, Marina de Tavira</td>,\n",
              " <td>Alfonso Cuarón</td>,\n",
              " <td>2018</td>,\n",
              " <tr class=\"oscar\">\n",
              " <td>Spotlight</td>\n",
              " <td>Mark Rufallo, Michael Keaton, Rachel McAdams</td>\n",
              " <td>Tom McCarthy</td>\n",
              " <td>2015</td>\n",
              " </tr>,\n",
              " <td>Spotlight</td>,\n",
              " <td>Mark Rufallo, Michael Keaton, Rachel McAdams</td>,\n",
              " <td>Tom McCarthy</td>,\n",
              " <td>2015</td>]"
            ]
          },
          "execution_count": 26,
          "metadata": {},
          "output_type": "execute_result"
        }
      ],
      "source": [
        "site.find_all(lambda tag: len(tag.attrs) <= 2)"
      ]
    },
    {
      "cell_type": "code",
      "execution_count": 27,
      "metadata": {},
      "outputs": [
        {
          "data": {
            "text/plain": [
              "False"
            ]
          },
          "execution_count": 27,
          "metadata": {},
          "output_type": "execute_result"
        }
      ],
      "source": [
        "exp_lambda = lambda tag: len(tag.attrs) >= 2\n",
        "\n",
        "exp_lambda(site.html)"
      ]
    },
    {
      "cell_type": "markdown",
      "metadata": {
        "id": "g8k2UyHty8zy"
      },
      "source": [
        "## Capítulo 3"
      ]
    },
    {
      "cell_type": "markdown",
      "metadata": {
        "id": "14RCzjM_zH_U"
      },
      "source": [
        "No capítulo 3, aprendemos a escrever nossos primeiros web crawlers. Ou seja, sabemos agora como pular de um site para outro, rastrear um domínio e criar um caminhante aleatório por um domínio ou por um site.\n",
        "\n",
        "Caso queira treinar os conhecimentos deste capítulo, utilize este [notebook](https://github.com/USPCodeLabSanca/dev-scrap-book-solutions/blob/main/cap%203/chapter-3.ipynb)."
      ]
    },
    {
      "cell_type": "markdown",
      "metadata": {
        "id": "KdMed-7K0c-v"
      },
      "source": [
        "Vamos utilizar o site https://scraping-cap3.netlify.app/ nos próximos blocos.\n",
        "\n",
        "Façamos uma função que obtenha todos os links internos presentes em uma página desse website.\n",
        "\n",
        "Obs: perceba que utilizamos um set, pois não queremos links repetidos na nossa lista. No entanto, um link do tipo \"https://scraping-cap3.netlify.app/baixistas.html\" é igual à \"./baixistas.html\" na prática, porém nosso set não irá diferenciar entre os dois."
      ]
    },
    {
      "cell_type": "code",
      "execution_count": 32,
      "metadata": {},
      "outputs": [
        {
          "data": {
            "text/plain": [
              "[0, 2, 4]"
            ]
          },
          "execution_count": 32,
          "metadata": {},
          "output_type": "execute_result"
        }
      ],
      "source": [
        "[2*i for i in range(3)]"
      ]
    },
    {
      "cell_type": "code",
      "execution_count": 34,
      "metadata": {
        "colab": {
          "base_uri": "https://localhost:8080/"
        },
        "id": "tIwbgLZE0bBh",
        "outputId": "b82aab78-5cd7-47c6-c23e-320a9c79c278"
      },
      "outputs": [
        {
          "data": {
            "text/plain": [
              "{'/baixistas',\n",
              " '/bandas',\n",
              " '/bateristas',\n",
              " '/guitarristas',\n",
              " '/tecladistas',\n",
              " '/vocalistas'}"
            ]
          },
          "execution_count": 34,
          "metadata": {},
          "output_type": "execute_result"
        }
      ],
      "source": [
        "def getInternalLinksOfPage(bsObject):\n",
        "  if bsObject is None:\n",
        "    return set()\n",
        "  links = bsObject.find_all('a', {'href': re.compile('(^\\.*\\/.+$)|(https:\\/\\/scraping-cap3\\.netlify\\.app\\/.*)')})\n",
        "  links = set([link.attrs['href'] for link in links])\n",
        "  return links\n",
        "\n",
        "site = getBS(\"https://scraping-cap3.netlify.app/\")\n",
        "getInternalLinksOfPage(site)"
      ]
    },
    {
      "cell_type": "markdown",
      "metadata": {
        "id": "HEaXzuQE1n2Y"
      },
      "source": [
        "Vamos fazer uma função que torna nossos links internos em formato de URL. Para que possamos ter um formato padrão para o nosso set."
      ]
    },
    {
      "cell_type": "code",
      "execution_count": 29,
      "metadata": {
        "colab": {
          "base_uri": "https://localhost:8080/",
          "height": 36
        },
        "id": "xsyoZp5N1zVE",
        "outputId": "9c91bee8-84d5-43e3-cc56-32c8f977c515"
      },
      "outputs": [
        {
          "data": {
            "text/plain": [
              "'https://scraping-cap3.netlify.app/guitarristas.html'"
            ]
          },
          "execution_count": 29,
          "metadata": {},
          "output_type": "execute_result"
        }
      ],
      "source": [
        "def makeInternalLinkAnURL(link):\n",
        "  url = 'https://scraping-cap3.netlify.app/'\n",
        "  if link.startswith('./'):\n",
        "    url += link[2:]\n",
        "  elif link.startswith('/'):\n",
        "    url += link[1:]\n",
        "  elif link.startswith('../'):  # isso está incorreto, mas vamos deixar assim por facilidade\n",
        "    url += link[3:]\n",
        "  else:\n",
        "    return link\n",
        "    \n",
        "  return url\n",
        "\n",
        "makeInternalLinkAnURL(\"./guitarristas.html\")"
      ]
    },
    {
      "cell_type": "markdown",
      "metadata": {
        "id": "KmD2gLXH2QbE"
      },
      "source": [
        "Um domínio funciona como um grafo direcionado, onde as setas representam os direcionamentos de uma página para a outra. Na verdade, toda a internet funciona dessa forma. \n",
        "\n",
        "Para navegarmos a totalidade de um grafo, um algoritmo usual para fazermos isso é uma BFS (*Breadth-first Search*).\n",
        "\n",
        "<img src=\"https://www.guru99.com/images/1/020820_0543_BreadthFirs1.png\" alt=\"BFS diagram\"/>\n",
        "\n",
        "O algoritmo funciona da seguinte maneira:\n",
        "1. Temos uma fila que indica a ordem em que iremos visitar cada nó\n",
        "\n",
        "2. Temos um hash-set com os nós já visitados\n",
        "\n",
        "3. Iniciamos a fila com um nó inicial e o hash-set vazio\n",
        "\n",
        "4. A cada iteração\n",
        "  1. Retiramos e obtemos o nó da fila\n",
        "  2. Realizamos alguma operação sobre o nó\n",
        "  3. Adicionamos o nó ao hash-set\n",
        "  4. Adicionamos os nós adjacentes que não estão no hash-set na fila\n",
        "\n",
        "5. Itere enquanto a fila não estiver vazia\n",
        "\n",
        "Vamos fazer uma BFS para navegar pelo domínio:"
      ]
    },
    {
      "cell_type": "code",
      "execution_count": 35,
      "metadata": {
        "colab": {
          "base_uri": "https://localhost:8080/"
        },
        "id": "GbXjxloo35Ui",
        "outputId": "3ed328c8-52e1-4129-fc06-1b8ea1aab75b"
      },
      "outputs": [
        {
          "data": {
            "text/plain": [
              "{'https://scraping-cap3.netlify.app/',\n",
              " 'https://scraping-cap3.netlify.app/baixistas',\n",
              " 'https://scraping-cap3.netlify.app/baixistas/dee_dee_ramone',\n",
              " 'https://scraping-cap3.netlify.app/baixistas/geezer_butler',\n",
              " 'https://scraping-cap3.netlify.app/baixistas/john_paul_jones',\n",
              " 'https://scraping-cap3.netlify.app/baixistas/krist_novoselic',\n",
              " 'https://scraping-cap3.netlify.app/baixistas/paul_mccartney',\n",
              " 'https://scraping-cap3.netlify.app/baixistas/roger_glover',\n",
              " 'https://scraping-cap3.netlify.app/baixistas/simon_gallup',\n",
              " 'https://scraping-cap3.netlify.app/bandas',\n",
              " 'https://scraping-cap3.netlify.app/bandas/black_sabbath',\n",
              " 'https://scraping-cap3.netlify.app/bandas/deep_purple',\n",
              " 'https://scraping-cap3.netlify.app/bandas/led_zeppelin',\n",
              " 'https://scraping-cap3.netlify.app/bandas/nirvana',\n",
              " 'https://scraping-cap3.netlify.app/bandas/ramones',\n",
              " 'https://scraping-cap3.netlify.app/bandas/the_beatles',\n",
              " 'https://scraping-cap3.netlify.app/bandas/the_cure',\n",
              " 'https://scraping-cap3.netlify.app/bandas/the_doors',\n",
              " 'https://scraping-cap3.netlify.app/bateristas',\n",
              " 'https://scraping-cap3.netlify.app/bateristas/bill_ward',\n",
              " 'https://scraping-cap3.netlify.app/bateristas/dave_grohl',\n",
              " 'https://scraping-cap3.netlify.app/bateristas/ian_paice',\n",
              " 'https://scraping-cap3.netlify.app/bateristas/jason_cooper',\n",
              " 'https://scraping-cap3.netlify.app/bateristas/john_bonham',\n",
              " 'https://scraping-cap3.netlify.app/bateristas/john_densmore',\n",
              " 'https://scraping-cap3.netlify.app/bateristas/ringo_starr',\n",
              " 'https://scraping-cap3.netlify.app/bateristas/tommy_ramone',\n",
              " 'https://scraping-cap3.netlify.app/guitarristas',\n",
              " 'https://scraping-cap3.netlify.app/guitarristas/george_harrison',\n",
              " 'https://scraping-cap3.netlify.app/guitarristas/jimmy_page',\n",
              " 'https://scraping-cap3.netlify.app/guitarristas/johnny_ramone',\n",
              " 'https://scraping-cap3.netlify.app/guitarristas/kurt_cobain',\n",
              " 'https://scraping-cap3.netlify.app/guitarristas/ritchie_blackmore',\n",
              " 'https://scraping-cap3.netlify.app/guitarristas/robby_krieger',\n",
              " 'https://scraping-cap3.netlify.app/guitarristas/robert_smith',\n",
              " 'https://scraping-cap3.netlify.app/guitarristas/tony_iommi',\n",
              " 'https://scraping-cap3.netlify.app/tecladistas',\n",
              " 'https://scraping-cap3.netlify.app/tecladistas/jon_lord',\n",
              " 'https://scraping-cap3.netlify.app/tecladistas/ray_manzarek',\n",
              " 'https://scraping-cap3.netlify.app/vocalistas',\n",
              " 'https://scraping-cap3.netlify.app/vocalistas/ian_gillan',\n",
              " 'https://scraping-cap3.netlify.app/vocalistas/jim_morrison',\n",
              " 'https://scraping-cap3.netlify.app/vocalistas/joey_ramone',\n",
              " 'https://scraping-cap3.netlify.app/vocalistas/john_lennon',\n",
              " 'https://scraping-cap3.netlify.app/vocalistas/kurt_cobain',\n",
              " 'https://scraping-cap3.netlify.app/vocalistas/ozzy_osbourne',\n",
              " 'https://scraping-cap3.netlify.app/vocalistas/robert_plant',\n",
              " 'https://scraping-cap3.netlify.app/vocalistas/robert_smith'}"
            ]
          },
          "execution_count": 35,
          "metadata": {},
          "output_type": "execute_result"
        }
      ],
      "source": [
        "def bfs(inicial):\n",
        "  fila = [makeInternalLinkAnURL(inicial)]\n",
        "  visitados = set()\n",
        "\n",
        "  while len(fila) > 0:\n",
        "    no = fila.pop()\n",
        "    visitados.add(no)\n",
        "    for link in getInternalLinksOfPage(getBS(no)):\n",
        "      url = makeInternalLinkAnURL(link)\n",
        "      if url not in visitados:\n",
        "        fila.append(url)\n",
        "\n",
        "  return visitados\n",
        "\n",
        "bfs(\"https://scraping-cap3.netlify.app/\")"
      ]
    },
    {
      "cell_type": "markdown",
      "metadata": {
        "id": "wwnH3hg46h3P"
      },
      "source": [
        "Para pegarmos os links externos de um site, pegamos todos os links que não são internos. Para isso, utilizamos a operação de diferença da teoria de conjuntos."
      ]
    },
    {
      "cell_type": "code",
      "execution_count": 36,
      "metadata": {
        "id": "Cia9EKLW6axu"
      },
      "outputs": [],
      "source": [
        "def getExternalLinksOfPage(bsObject):\n",
        "  if bsObject is None:\n",
        "    return set()\n",
        "  aTags = bsObject.find_all('a')\n",
        "  links = set([tag.attrs['href'] for tag in aTags if 'href' in tag.attrs])\n",
        "  links.difference_update(getInternalLinksOfPage(bsObject))\n",
        "  links = {link for link in links if len(link) > 0}\n",
        "  links = {link for link in links if link[0] == \"h\"}\n",
        "  return links"
      ]
    },
    {
      "cell_type": "code",
      "execution_count": 37,
      "metadata": {
        "colab": {
          "base_uri": "https://localhost:8080/"
        },
        "id": "meD1aHoM6s5T",
        "outputId": "0c476a92-7e34-4403-ec43-e493f5893829"
      },
      "outputs": [
        {
          "data": {
            "text/plain": [
              "{'https://github.com/kibonusp',\n",
              " 'https://www.linkedin.com/in/gabrielfreitas-xv/'}"
            ]
          },
          "execution_count": 37,
          "metadata": {},
          "output_type": "execute_result"
        }
      ],
      "source": [
        "getExternalLinksOfPage(getBS(\"https://scraping-cap3.netlify.app/\"))"
      ]
    },
    {
      "cell_type": "markdown",
      "metadata": {
        "id": "2egnTIGu6-uy"
      },
      "source": [
        "Podemos fazer um caminhante aleatório pela internet a partir disso. Você poderia impedir ele de visitar páginas novamente utilizando um set, porém teria que transformar links internos em URLs, mas tô com preguiça pra isso 😜"
      ]
    },
    {
      "cell_type": "code",
      "execution_count": 39,
      "metadata": {
        "id": "cXBaXGWGkVHQ"
      },
      "outputs": [],
      "source": [
        "def makeInternalLinkAnURL(link, hostname):\n",
        "  url = hostname\n",
        "  if link.startswith('./'):\n",
        "    url += link[2:]\n",
        "  elif link.startswith('/'):\n",
        "    url += link[1:]\n",
        "  elif link.startswith('../'):  # isso está incorreto, mas vamos deixar assim por facilidade\n",
        "    url += link[3:]\n",
        "  else:\n",
        "    return link\n",
        "    \n",
        "  return url"
      ]
    },
    {
      "cell_type": "code",
      "execution_count": 40,
      "metadata": {
        "colab": {
          "base_uri": "https://localhost:8080/",
          "height": 36
        },
        "id": "bT5duz-ujg6W",
        "outputId": "b7c2a346-2490-4d23-bf84-036514a89254"
      },
      "outputs": [
        {
          "data": {
            "text/plain": [
              "'scraping-cap3.netlify.app'"
            ]
          },
          "execution_count": 40,
          "metadata": {},
          "output_type": "execute_result"
        }
      ],
      "source": [
        "o =urlparse(\"https://scraping-cap3.netlify.app/conversa\")\n",
        "o.hostname"
      ]
    },
    {
      "cell_type": "code",
      "execution_count": 41,
      "metadata": {
        "id": "yfg6bQfm8hiw"
      },
      "outputs": [],
      "source": [
        "def bfsExternalLink(page, hostname):\n",
        "  url = makeInternalLinkAnURL(page, hostname)\n",
        "  external_links = getExternalLinksOfPage(getBS(url))\n",
        "  if len(external_links) > 0:\n",
        "      return url, external_links\n",
        "\n",
        "  fila = [url]\n",
        "  visitados = set()\n",
        "\n",
        "  while len(fila) > 0:\n",
        "    no = fila.pop()\n",
        "    visitados.add(no)\n",
        "    external_links = getExternalLinksOfPage(getBS(no))\n",
        "    if external_links:\n",
        "      return no, external_links\n",
        "    for link in getInternalLinksOfPage(getBS(no)):\n",
        "      url = makeInternalLinkAnURL(link)\n",
        "      if url not in visitados:\n",
        "        fila.append(url)\n",
        "\n",
        "  return None, set()\n"
      ]
    },
    {
      "cell_type": "code",
      "execution_count": 42,
      "metadata": {
        "id": "QsertcPD7Cja"
      },
      "outputs": [],
      "source": [
        "def random_walker(link):\n",
        "  print(link)\n",
        "  visited = {link}\n",
        "  linkp = urlparse(link)\n",
        "  url, external_links = bfsExternalLink(link, linkp.hostname)\n",
        "  if len(external_links) == 0:\n",
        "    print(\"No external links found\")\n",
        "    return {link}\n",
        "  next_link = random.choice(list(external_links))\n",
        "  visited.add(next_link)\n",
        "  return visited.union(random_walker(next_link))"
      ]
    },
    {
      "cell_type": "code",
      "execution_count": 43,
      "metadata": {
        "colab": {
          "base_uri": "https://localhost:8080/"
        },
        "id": "rmnf3Popm6Wh",
        "outputId": "01a7ff33-f49e-444d-98ee-39b3cba4ea31"
      },
      "outputs": [
        {
          "name": "stdout",
          "output_type": "stream",
          "text": [
            "https://scraping-cap3.netlify.app\n",
            "https://github.com/kibonusp\n",
            "https://github.com/kibonusp?tab=followers\n",
            "https://docs.github.com/en/articles/blocking-a-user-from-your-personal-account\n",
            "https://github.com/pricing\n",
            "https://github.com/github-copilot/business_signup\n",
            "https://github.com/contact\n",
            "https://twitter.com/github\n",
            "No external links found\n"
          ]
        },
        {
          "data": {
            "text/plain": [
              "{'https://docs.github.com/en/articles/blocking-a-user-from-your-personal-account',\n",
              " 'https://github.com/contact',\n",
              " 'https://github.com/github-copilot/business_signup',\n",
              " 'https://github.com/kibonusp',\n",
              " 'https://github.com/kibonusp?tab=followers',\n",
              " 'https://github.com/pricing',\n",
              " 'https://scraping-cap3.netlify.app',\n",
              " 'https://twitter.com/github'}"
            ]
          },
          "execution_count": 43,
          "metadata": {},
          "output_type": "execute_result"
        }
      ],
      "source": [
        "random_walker(\"https://scraping-cap3.netlify.app\")"
      ]
    }
  ],
  "metadata": {
    "colab": {
      "collapsed_sections": [
        "sFmF_aA2qK1N",
        "g8k2UyHty8zy"
      ],
      "provenance": []
    },
    "kernelspec": {
      "display_name": "Python 3",
      "name": "python3"
    },
    "language_info": {
      "codemirror_mode": {
        "name": "ipython",
        "version": 3
      },
      "file_extension": ".py",
      "mimetype": "text/x-python",
      "name": "python",
      "nbconvert_exporter": "python",
      "pygments_lexer": "ipython3",
      "version": "3.9.13"
    }
  },
  "nbformat": 4,
  "nbformat_minor": 0
}
