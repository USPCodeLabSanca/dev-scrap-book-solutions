{
 "cells": [
  {
   "cell_type": "markdown",
   "metadata": {},
   "source": [
    "# Chapter 3"
   ]
  },
  {
   "cell_type": "markdown",
   "metadata": {},
   "source": [
    "In the chapter 3 of \"Web Scraping with Python\" you were able to learn more about the following subjects:\n",
    "* Tracking internal links of website\n",
    "  * According to pattern\n",
    "  * All internal links\n",
    "* Website mapping\n",
    "* Collecting data\n",
    "* Tracking through internet\n",
    "\n",
    "The following cells aim to practice the contents listed above. For any sugestions, contact *gabriel.vasconcelos@usp.br*\n",
    "\n",
    "Use the website https://scraping-cap3.netlify.app/ to answer this notebook."
   ]
  },
  {
   "cell_type": "code",
   "execution_count": null,
   "metadata": {},
   "outputs": [],
   "source": [
    "# Import BeautifulSoup and other libraries you find useful\n",
    "\n",
    "import networkx as nx\n",
    "import matplotlib.pyplot as plt"
   ]
  },
  {
   "cell_type": "code",
   "execution_count": null,
   "metadata": {},
   "outputs": [],
   "source": [
    "# Get the website https://scraping-cap3.netlify.app/ and pass it to a BeautifulSoup object \n",
    "# with proper error handling"
   ]
  },
  {
   "cell_type": "markdown",
   "metadata": {},
   "source": [
    "### a.\n",
    "Get all internal links from the domain."
   ]
  },
  {
   "cell_type": "code",
   "execution_count": null,
   "metadata": {},
   "outputs": [],
   "source": [
    "# Code below\n",
    "# Tip: use BFS algorithm to do a full mapping of the domain"
   ]
  },
  {
   "cell_type": "markdown",
   "metadata": {},
   "source": [
    "### b.\n",
    "Get all external links from the domain."
   ]
  },
  {
   "cell_type": "code",
   "execution_count": null,
   "metadata": {},
   "outputs": [],
   "source": [
    "# Code below"
   ]
  },
  {
   "cell_type": "markdown",
   "metadata": {},
   "source": [
    "### c.\n",
    "Get the title of each page in the website, its url and the first paragraph."
   ]
  },
  {
   "cell_type": "code",
   "execution_count": null,
   "metadata": {},
   "outputs": [],
   "source": [
    "# Code below"
   ]
  },
  {
   "cell_type": "markdown",
   "metadata": {},
   "source": [
    "### d.\n",
    "Create an adjacency list of the domain (directed graph)."
   ]
  },
  {
   "cell_type": "code",
   "execution_count": null,
   "metadata": {},
   "outputs": [],
   "source": [
    "# Code below"
   ]
  },
  {
   "cell_type": "code",
   "execution_count": 1,
   "metadata": {},
   "outputs": [],
   "source": [
    "# Use networkx to generate a visualization of the graph\n",
    "'''\n",
    "Create an adjacency list in the following format:\n",
    "\n",
    "adjacencyList = {\n",
    "    'node A': ['nodeB', 'nodeC'],\n",
    "    'node B': ['node C']\n",
    "}\n",
    "'''\n",
    "\n",
    "G = nx.DiGraph()\n",
    "\n",
    "for fromSite in adjacencyList:\n",
    "    for toSite in adjacencyList[fromSite]:\n",
    "        G.add_edge(fromSite, toSite)\n",
    "        \n",
    "nodes = list(G.nodes)\n",
    "for node in nodes:\n",
    "    if len(node) == 1:\n",
    "        print(node)\n",
    "        G.remove_node(node)\n",
    "        \n",
    "plt.figure(3,figsize=(12,12)) \n",
    "nx.draw(G, pos=nx.shell_layout(G), node_size=100, width=0.5)\n",
    "plt.show()"
   ]
  },
  {
   "cell_type": "markdown",
   "metadata": {},
   "source": [
    "### e.\n",
    "From the website external links, choose one randomly and create a internet crawler."
   ]
  },
  {
   "cell_type": "code",
   "execution_count": null,
   "metadata": {},
   "outputs": [],
   "source": [
    "# Code below"
   ]
  }
 ],
 "metadata": {
  "kernelspec": {
   "display_name": "Python 3.10.6 64-bit",
   "language": "python",
   "name": "python3"
  },
  "language_info": {
   "codemirror_mode": {
    "name": "ipython",
    "version": 3
   },
   "file_extension": ".py",
   "mimetype": "text/x-python",
   "name": "python",
   "nbconvert_exporter": "python",
   "pygments_lexer": "ipython3",
   "version": "3.9.13"
  },
  "orig_nbformat": 4,
  "vscode": {
   "interpreter": {
    "hash": "916dbcbb3f70747c44a77c7bcd40155683ae19c65e1c03b4aa3499c5328201f1"
   }
  }
 },
 "nbformat": 4,
 "nbformat_minor": 2
}
